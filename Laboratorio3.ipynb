{
 "cells": [
  {
   "attachments": {},
   "cell_type": "markdown",
   "metadata": {},
   "source": [
    "# Laboratorio 3"
   ]
  },
  {
   "attachments": {},
   "cell_type": "markdown",
   "metadata": {},
   "source": [
    "Juan Pablo Rodas Martinez\n",
    "\n",
    "carnet 23007125"
   ]
  },
  {
   "cell_type": "code",
   "execution_count": 1,
   "metadata": {},
   "outputs": [],
   "source": [
    "import numpy as np\n",
    "import pandas as pd\n",
    "import matplotlib.pyplot as plt"
   ]
  },
  {
   "attachments": {},
   "cell_type": "markdown",
   "metadata": {},
   "source": [
    "## Parte #1 - Numpy"
   ]
  },
  {
   "attachments": {},
   "cell_type": "markdown",
   "metadata": {},
   "source": [
    "### 1)"
   ]
  },
  {
   "cell_type": "code",
   "execution_count": 20,
   "metadata": {},
   "outputs": [
    {
     "name": "stdout",
     "output_type": "stream",
     "text": [
      "El tamaño en bytes de un array de 100 elementos de tipo booleano es de 1000 bytes\n"
     ]
    }
   ],
   "source": [
    "a = np.full(1000,True)\n",
    "\n",
    "print(f'El tamaño en bytes de un array de 100 elementos de tipo booleano es de {a.nbytes} bytes')"
   ]
  },
  {
   "attachments": {},
   "cell_type": "markdown",
   "metadata": {},
   "source": [
    "### 2)"
   ]
  },
  {
   "cell_type": "code",
   "execution_count": 42,
   "metadata": {},
   "outputs": [
    {
     "name": "stdout",
     "output_type": "stream",
     "text": [
      "[20 18 16 14 12 10  8  6  4  2]\n"
     ]
    }
   ],
   "source": [
    "b =  np.arange(2,101,2)\n",
    "b = b[::-1]\n",
    "\n",
    "print(b[-10:])"
   ]
  },
  {
   "attachments": {},
   "cell_type": "markdown",
   "metadata": {},
   "source": [
    "### 3)"
   ]
  },
  {
   "cell_type": "code",
   "execution_count": 101,
   "metadata": {},
   "outputs": [
    {
     "name": "stdout",
     "output_type": "stream",
     "text": [
      "dada la matriz [[2 4 5 6]\n",
      " [0 3 7 4]\n",
      " [8 8 5 2]\n",
      " [1 5 6 1]]\n",
      "\n",
      "seleccionar: [0 3 7 4]\n",
      "\n",
      "seleccionar: \n",
      "[[2 5]\n",
      " [8 5]]\n"
     ]
    }
   ],
   "source": [
    "c = np.array([[2,4,5,6],\n",
    "             [0,3,7,4],\n",
    "             [8,8,5,2],\n",
    "             [1,5,6,1]])\n",
    "print(f'dada la matriz {c}\\n')\n",
    "\n",
    "print(f'seleccionar: {c[1]}\\n')\n",
    "print(f'seleccionar: \\n{c[0:3:2][0::1,0:3:2]}')"
   ]
  },
  {
   "attachments": {},
   "cell_type": "markdown",
   "metadata": {},
   "source": [
    "### 4)"
   ]
  },
  {
   "cell_type": "code",
   "execution_count": 104,
   "metadata": {},
   "outputs": [
    {
     "name": "stdout",
     "output_type": "stream",
     "text": [
      "La madia aritmetica de (a-b) es = -0.25\n"
     ]
    }
   ],
   "source": [
    "a = np.array([1,4,2,7])\n",
    "b = np.array([1,3,2,9])\n",
    "\n",
    "c = a-b\n",
    "print(f'La madia aritmetica de (a-b) es = {c.mean()}')"
   ]
  },
  {
   "attachments": {},
   "cell_type": "markdown",
   "metadata": {},
   "source": [
    "### 5)"
   ]
  },
  {
   "cell_type": "code",
   "execution_count": 142,
   "metadata": {},
   "outputs": [
    {
     "name": "stdout",
     "output_type": "stream",
     "text": [
      "[[ 1.33  4.5 ]\n",
      " [30.   10.7 ]\n",
      " [70.2   0.5 ]\n",
      " [37.1  -3.6 ]]\n",
      "Las dimensiones del array son: (4, 2)\n"
     ]
    }
   ],
   "source": [
    "coordenadas = np.array([[1.33,4.5],[30.0,10.7],[70.2,0.5]])\n",
    "coordenadas=np.append(coordenadas,[[37.1,-3.6]],axis=0)\n",
    "print(coordenadas)\n",
    "print(f'Las dimensiones del array son: {coordenadas.shape}')"
   ]
  },
  {
   "attachments": {},
   "cell_type": "markdown",
   "metadata": {},
   "source": [
    "### 6)"
   ]
  },
  {
   "cell_type": "code",
   "execution_count": 149,
   "metadata": {},
   "outputs": [
    {
     "name": "stdout",
     "output_type": "stream",
     "text": [
      "El nuevo array es: \n",
      "[[ 1.33 30.   70.2  37.1  10.8  35.8 ]\n",
      " [ 4.5  10.7   0.5  -3.6   3.   12.  ]]\n"
     ]
    }
   ],
   "source": [
    "newCoord=coordenadas.transpose()\n",
    "newCoord=np.append(newCoord,[[10.8],[3.0]],axis=1)\n",
    "newCoord=np.append(newCoord,[[35.8],[12.0]],axis=1)\n",
    "print(f'El nuevo array es: \\n{newCoord}')"
   ]
  },
  {
   "cell_type": "code",
   "execution_count": null,
   "metadata": {},
   "outputs": [],
   "source": []
  }
 ],
 "metadata": {
  "kernelspec": {
   "display_name": "base",
   "language": "python",
   "name": "python3"
  },
  "language_info": {
   "codemirror_mode": {
    "name": "ipython",
    "version": 3
   },
   "file_extension": ".py",
   "mimetype": "text/x-python",
   "name": "python",
   "nbconvert_exporter": "python",
   "pygments_lexer": "ipython3",
   "version": "3.9.13"
  },
  "orig_nbformat": 4
 },
 "nbformat": 4,
 "nbformat_minor": 2
}
