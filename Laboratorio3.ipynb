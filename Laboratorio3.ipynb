{
 "cells": [
  {
   "attachments": {},
   "cell_type": "markdown",
   "metadata": {},
   "source": [
    "# Laboratorio 3"
   ]
  },
  {
   "attachments": {},
   "cell_type": "markdown",
   "metadata": {},
   "source": [
    "Juan Pablo Rodas Martinez\n",
    "\n",
    "carnet 23007125"
   ]
  },
  {
   "cell_type": "code",
   "execution_count": 196,
   "metadata": {},
   "outputs": [],
   "source": [
    "import numpy as np\n",
    "import pandas as pd\n",
    "import matplotlib.pyplot as plt\n",
    "import seaborn as sns"
   ]
  },
  {
   "attachments": {},
   "cell_type": "markdown",
   "metadata": {},
   "source": [
    "## Parte #1 - Numpy"
   ]
  },
  {
   "attachments": {},
   "cell_type": "markdown",
   "metadata": {},
   "source": [
    "### 1)"
   ]
  },
  {
   "cell_type": "code",
   "execution_count": 20,
   "metadata": {},
   "outputs": [
    {
     "name": "stdout",
     "output_type": "stream",
     "text": [
      "El tamaño en bytes de un array de 100 elementos de tipo booleano es de 1000 bytes\n"
     ]
    }
   ],
   "source": [
    "a = np.full(1000,True)\n",
    "\n",
    "print(f'El tamaño en bytes de un array de 100 elementos de tipo booleano es de {a.nbytes} bytes')"
   ]
  },
  {
   "attachments": {},
   "cell_type": "markdown",
   "metadata": {},
   "source": [
    "### 2)"
   ]
  },
  {
   "cell_type": "code",
   "execution_count": 42,
   "metadata": {},
   "outputs": [
    {
     "name": "stdout",
     "output_type": "stream",
     "text": [
      "[20 18 16 14 12 10  8  6  4  2]\n"
     ]
    }
   ],
   "source": [
    "b =  np.arange(2,101,2)\n",
    "b = b[::-1]\n",
    "\n",
    "print(b[-10:])"
   ]
  },
  {
   "attachments": {},
   "cell_type": "markdown",
   "metadata": {},
   "source": [
    "### 3)"
   ]
  },
  {
   "cell_type": "code",
   "execution_count": 101,
   "metadata": {},
   "outputs": [
    {
     "name": "stdout",
     "output_type": "stream",
     "text": [
      "dada la matriz [[2 4 5 6]\n",
      " [0 3 7 4]\n",
      " [8 8 5 2]\n",
      " [1 5 6 1]]\n",
      "\n",
      "seleccionar: [0 3 7 4]\n",
      "\n",
      "seleccionar: \n",
      "[[2 5]\n",
      " [8 5]]\n"
     ]
    }
   ],
   "source": [
    "c = np.array([[2,4,5,6],\n",
    "             [0,3,7,4],\n",
    "             [8,8,5,2],\n",
    "             [1,5,6,1]])\n",
    "print(f'dada la matriz {c}\\n')\n",
    "\n",
    "print(f'seleccionar: {c[1]}\\n')\n",
    "print(f'seleccionar: \\n{c[0:3:2][0::1,0:3:2]}')"
   ]
  },
  {
   "attachments": {},
   "cell_type": "markdown",
   "metadata": {},
   "source": [
    "### 4)"
   ]
  },
  {
   "cell_type": "code",
   "execution_count": 104,
   "metadata": {},
   "outputs": [
    {
     "name": "stdout",
     "output_type": "stream",
     "text": [
      "La madia aritmetica de (a-b) es = -0.25\n"
     ]
    }
   ],
   "source": [
    "a = np.array([1,4,2,7])\n",
    "b = np.array([1,3,2,9])\n",
    "\n",
    "c = a-b\n",
    "print(f'La madia aritmetica de (a-b) es = {c.mean()}')"
   ]
  },
  {
   "attachments": {},
   "cell_type": "markdown",
   "metadata": {},
   "source": [
    "### 5)"
   ]
  },
  {
   "cell_type": "code",
   "execution_count": 142,
   "metadata": {},
   "outputs": [
    {
     "name": "stdout",
     "output_type": "stream",
     "text": [
      "[[ 1.33  4.5 ]\n",
      " [30.   10.7 ]\n",
      " [70.2   0.5 ]\n",
      " [37.1  -3.6 ]]\n",
      "Las dimensiones del array son: (4, 2)\n"
     ]
    }
   ],
   "source": [
    "coordenadas = np.array([[1.33,4.5],[30.0,10.7],[70.2,0.5]])\n",
    "coordenadas=np.append(coordenadas,[[37.1,-3.6]],axis=0)\n",
    "print(coordenadas)\n",
    "print(f'Las dimensiones del array son: {coordenadas.shape}')"
   ]
  },
  {
   "attachments": {},
   "cell_type": "markdown",
   "metadata": {},
   "source": [
    "### 6)"
   ]
  },
  {
   "cell_type": "code",
   "execution_count": 149,
   "metadata": {},
   "outputs": [
    {
     "name": "stdout",
     "output_type": "stream",
     "text": [
      "El nuevo array es: \n",
      "[[ 1.33 30.   70.2  37.1  10.8  35.8 ]\n",
      " [ 4.5  10.7   0.5  -3.6   3.   12.  ]]\n"
     ]
    }
   ],
   "source": [
    "newCoord=coordenadas.transpose()\n",
    "newCoord=np.append(newCoord,[[10.8],[3.0]],axis=1)\n",
    "newCoord=np.append(newCoord,[[35.8],[12.0]],axis=1)\n",
    "print(f'El nuevo array es: \\n{newCoord}')"
   ]
  },
  {
   "attachments": {},
   "cell_type": "markdown",
   "metadata": {},
   "source": [
    "## Parte #2 - Exploracion y Mineria de datos"
   ]
  },
  {
   "cell_type": "code",
   "execution_count": 155,
   "metadata": {},
   "outputs": [
    {
     "data": {
      "text/html": [
       "<div>\n",
       "<style scoped>\n",
       "    .dataframe tbody tr th:only-of-type {\n",
       "        vertical-align: middle;\n",
       "    }\n",
       "\n",
       "    .dataframe tbody tr th {\n",
       "        vertical-align: top;\n",
       "    }\n",
       "\n",
       "    .dataframe thead th {\n",
       "        text-align: right;\n",
       "    }\n",
       "</style>\n",
       "<table border=\"1\" class=\"dataframe\">\n",
       "  <thead>\n",
       "    <tr style=\"text-align: right;\">\n",
       "      <th></th>\n",
       "      <th>FID</th>\n",
       "      <th>OBJECTID</th>\n",
       "      <th>Texto</th>\n",
       "      <th>Poblacion</th>\n",
       "      <th>CodMun</th>\n",
       "      <th>Municipio</th>\n",
       "      <th>CodProvin</th>\n",
       "      <th>Provincia</th>\n",
       "      <th>X</th>\n",
       "      <th>Y</th>\n",
       "    </tr>\n",
       "  </thead>\n",
       "  <tbody>\n",
       "    <tr>\n",
       "      <th>0</th>\n",
       "      <td>0</td>\n",
       "      <td>1</td>\n",
       "      <td>Agüimes</td>\n",
       "      <td>29431.0</td>\n",
       "      <td>35002</td>\n",
       "      <td>Agüimes</td>\n",
       "      <td>35</td>\n",
       "      <td>Las Palmas</td>\n",
       "      <td>-15.446012</td>\n",
       "      <td>27.900542</td>\n",
       "    </tr>\n",
       "    <tr>\n",
       "      <th>1</th>\n",
       "      <td>1</td>\n",
       "      <td>2</td>\n",
       "      <td>Antigua</td>\n",
       "      <td>10458.0</td>\n",
       "      <td>35003</td>\n",
       "      <td>Antigua</td>\n",
       "      <td>35</td>\n",
       "      <td>Las Palmas</td>\n",
       "      <td>-14.013301</td>\n",
       "      <td>28.418966</td>\n",
       "    </tr>\n",
       "    <tr>\n",
       "      <th>2</th>\n",
       "      <td>2</td>\n",
       "      <td>3</td>\n",
       "      <td>Arrecife</td>\n",
       "      <td>58156.0</td>\n",
       "      <td>35004</td>\n",
       "      <td>Arrecife</td>\n",
       "      <td>35</td>\n",
       "      <td>Las Palmas</td>\n",
       "      <td>-13.551451</td>\n",
       "      <td>28.960649</td>\n",
       "    </tr>\n",
       "    <tr>\n",
       "      <th>3</th>\n",
       "      <td>3</td>\n",
       "      <td>4</td>\n",
       "      <td>Arucas</td>\n",
       "      <td>36745.0</td>\n",
       "      <td>35006</td>\n",
       "      <td>Arucas</td>\n",
       "      <td>35</td>\n",
       "      <td>Las Palmas</td>\n",
       "      <td>-15.521512</td>\n",
       "      <td>28.117496</td>\n",
       "    </tr>\n",
       "    <tr>\n",
       "      <th>4</th>\n",
       "      <td>4</td>\n",
       "      <td>5</td>\n",
       "      <td>Gáldar</td>\n",
       "      <td>24473.0</td>\n",
       "      <td>35009</td>\n",
       "      <td>Gáldar</td>\n",
       "      <td>35</td>\n",
       "      <td>Las Palmas</td>\n",
       "      <td>-15.654111</td>\n",
       "      <td>28.143873</td>\n",
       "    </tr>\n",
       "  </tbody>\n",
       "</table>\n",
       "</div>"
      ],
      "text/plain": [
       "   FID  OBJECTID     Texto  Poblacion  CodMun Municipio  CodProvin  \\\n",
       "0    0         1   Agüimes    29431.0   35002   Agüimes         35   \n",
       "1    1         2   Antigua    10458.0   35003   Antigua         35   \n",
       "2    2         3  Arrecife    58156.0   35004  Arrecife         35   \n",
       "3    3         4    Arucas    36745.0   35006    Arucas         35   \n",
       "4    4         5    Gáldar    24473.0   35009    Gáldar         35   \n",
       "\n",
       "    Provincia          X          Y  \n",
       "0  Las Palmas -15.446012  27.900542  \n",
       "1  Las Palmas -14.013301  28.418966  \n",
       "2  Las Palmas -13.551451  28.960649  \n",
       "3  Las Palmas -15.521512  28.117496  \n",
       "4  Las Palmas -15.654111  28.143873  "
      ]
     },
     "execution_count": 155,
     "metadata": {},
     "output_type": "execute_result"
    }
   ],
   "source": [
    "dataset = pd.read_csv('NucleosPoblacion.csv')\n",
    "dataset.head()"
   ]
  },
  {
   "attachments": {},
   "cell_type": "markdown",
   "metadata": {},
   "source": [
    "### 1)"
   ]
  },
  {
   "cell_type": "code",
   "execution_count": 159,
   "metadata": {},
   "outputs": [
    {
     "name": "stdout",
     "output_type": "stream",
     "text": [
      "hay 62 municipios con mas de 100,000 de poblacion\n"
     ]
    }
   ],
   "source": [
    "Filtro=len(dataset[dataset['Poblacion'] >= 100000])\n",
    "print(f'hay {Filtro} municipios con mas de 100,000 de poblacion')"
   ]
  },
  {
   "attachments": {},
   "cell_type": "markdown",
   "metadata": {},
   "source": [
    "### 2)"
   ]
  },
  {
   "cell_type": "code",
   "execution_count": 221,
   "metadata": {},
   "outputs": [
    {
     "data": {
      "text/plain": [
       "<BarContainer object of 52 artists>"
      ]
     },
     "execution_count": 221,
     "metadata": {},
     "output_type": "execute_result"
    },
    {
     "data": {
      "image/png": "[encoded data removed]",
      "text/plain": [
       "<Figure size 2000x1000 with 1 Axes>"
      ]
     },
     "metadata": {},
     "output_type": "display_data"
    }
   ],
   "source": [
    "DataSort=dataset[['Poblacion','Provincia']].groupby('Provincia').sum().sort_values('Poblacion').reset_index()\n",
    "plt.barh('Provincia','Poblacion',data=DataSort)"
   ]
  },
  {
   "cell_type": "code",
   "execution_count": 254,
   "metadata": {},
   "outputs": [
    {
     "name": "stdout",
     "output_type": "stream",
     "text": [
      "La segunda ciudad as poblada es Barcelona\n"
     ]
    }
   ],
   "source": [
    "respuesta_a=DataSort.iloc[-2]['Provincia']\n",
    "print(f'La segunda ciudad as poblada es {respuesta_a}')"
   ]
  },
  {
   "cell_type": "code",
   "execution_count": 276,
   "metadata": {},
   "outputs": [
    {
     "name": "stdout",
     "output_type": "stream",
     "text": [
      "El lugar que ocupa Granada en el ranking de las ciudades mas pobladas es 16°\n"
     ]
    }
   ],
   "source": [
    "a=DataSort.loc[DataSort['Provincia']=='Granada'].index[0]+1\n",
    "b=len(DataSort)\n",
    "print(f'El lugar que ocupa Granada en el ranking de las ciudades mas pobladas es {b-a}°')"
   ]
  },
  {
   "attachments": {},
   "cell_type": "markdown",
   "metadata": {},
   "source": [
    "### 3)"
   ]
  },
  {
   "cell_type": "code",
   "execution_count": 282,
   "metadata": {},
   "outputs": [
    {
     "name": "stdout",
     "output_type": "stream",
     "text": [
      "Hay 14 municipios de Extremadura con mas de 5,000 habitantes\n"
     ]
    }
   ],
   "source": [
    "respuesta=len(dataset[(dataset['Provincia']=='Badajoz') |\n",
    "        (dataset['Provincia']=='Cáceres') &\n",
    "        (dataset['Poblacion'] >= 5000)])\n",
    "\n",
    "print(f'Hay {respuesta} municipios de Extremadura con mas de 5,000 habitantes')"
   ]
  },
  {
   "attachments": {},
   "cell_type": "markdown",
   "metadata": {},
   "source": [
    "### 4)"
   ]
  },
  {
   "cell_type": "code",
   "execution_count": 296,
   "metadata": {},
   "outputs": [
    {
     "name": "stdout",
     "output_type": "stream",
     "text": [
      "El municipio situado mas al orte es Viveiro en la provincia de Lugo con poblacion de 16211.0\n"
     ]
    }
   ],
   "source": [
    "DataSort=dataset[['Poblacion','Provincia','Municipio','Y']].sort_values('Y',ascending=False)\n",
    "Northest=DataSort.iloc[0]\n",
    "\n",
    "print(f'El municipio situado mas al orte es {Northest[2]} en la provincia de {Northest[1]} con poblacion de {Northest[0]}')"
   ]
  },
  {
   "attachments": {},
   "cell_type": "markdown",
   "metadata": {},
   "source": [
    "### 5)"
   ]
  },
  {
   "cell_type": "code",
   "execution_count": 305,
   "metadata": {},
   "outputs": [
    {
     "name": "stdout",
     "output_type": "stream",
     "text": [
      "De la poblacion de granada:\n",
      " la media es 30217.85 \n",
      " la mediana es 17526.0 \n",
      " la desviacion estandar es 50355.49 \n",
      " el valor maximo es 239154.0 \n",
      " el valor minimo es 10386.0\n"
     ]
    }
   ],
   "source": [
    "DataSort=dataset[dataset['Provincia']=='Granada']\n",
    "media=DataSort['Poblacion'].mean()\n",
    "mediana=DataSort['Poblacion'].median()\n",
    "desvest=DataSort['Poblacion'].std()\n",
    "maxVal=DataSort['Poblacion'].max()\n",
    "minVal=DataSort['Poblacion'].min()\n",
    "\n",
    "print(f'De la poblacion de granada:\\n la media es {media} \\n la mediana es {mediana} \\n la desviacion estandar es {round(desvest,2)} \\n el valor maximo es {maxVal} \\n el valor minimo es {minVal}')"
   ]
  },
  {
   "attachments": {},
   "cell_type": "markdown",
   "metadata": {},
   "source": [
    "### 6)"
   ]
  },
  {
   "cell_type": "code",
   "execution_count": 396,
   "metadata": {},
   "outputs": [
    {
     "data": {
      "image/png": "[encoded data removed]",
      "text/plain": [
       "<Figure size 2000x1000 with 1 Axes>"
      ]
     },
     "metadata": {},
     "output_type": "display_data"
    }
   ],
   "source": [
    "DataSort=dataset.groupby('Provincia').sum().reset_index()\n",
    "plt.hist(DataSort['Poblacion'])\n",
    "plt.show()"
   ]
  },
  {
   "attachments": {},
   "cell_type": "markdown",
   "metadata": {},
   "source": [
    "### 7)"
   ]
  },
  {
   "cell_type": "code",
   "execution_count": 411,
   "metadata": {},
   "outputs": [
    {
     "name": "stdout",
     "output_type": "stream",
     "text": [
      "para los municipios de ['Manacor' 'Bailén' 'Baena' 'Teguise' 'Olivenza' 'Mora' 'Valdepeñas'\n",
      " 'Talavera de la Reina' 'Massamagrell' 'Las Rozas de Madrid' 'Moaña'\n",
      " 'Santa María de Guía de Gran Canaria' 'Tordera' 'Picanya' 'Santa Úrsula'\n",
      " 'San Martín del Rey Aurelio' 'Brenes' 'Teguise' 'Tomelloso' 'Avilés'\n",
      " 'Portugalete' 'Abrera' 'Igualada' 'Valladolid' 'Almuñécar'\n",
      " 'Santa Marta de Tormes' 'Castellbisbal' 'Benidorm' 'Villaquilambre'\n",
      " 'Vila-real' 'El Vendrell' 'San Agustín del Guadalix' 'Roses' 'Móstoles'\n",
      " 'La Pobla de Vallbona' 'Cardedeu' 'Pinto' 'Villamartín' 'Argentona'\n",
      " 'Palamós' 'Argentona' 'Basauri' 'Mora' 'Meco' 'Avilés'\n",
      " 'El Viso del Alcor' 'El Campello' 'Arucas' 'Montcada i Reixac'\n",
      " 'Cornellà de Llobregat'] \n",
      " \n",
      " la media de la poblacion es: 39521.27 \n",
      " la desviacion estandar es: 52758.53\n"
     ]
    }
   ],
   "source": [
    "Municipios=dataset['Municipio'].unique()\n",
    "RandMuni=np.random.choice(Municipios,50)\n",
    "media=round(dataset[dataset['Municipio'].isin(RandMuni)]['Poblacion'].mean(),2)\n",
    "desvest=round(dataset[dataset['Municipio'].isin(RandMuni)]['Poblacion'].std(),2)\n",
    "\n",
    "print(f'para los municipios de {RandMuni} \\n \\n la media de la poblacion es: {media} \\n la desviacion estandar es: {desvest}')"
   ]
  },
  {
   "attachments": {},
   "cell_type": "markdown",
   "metadata": {},
   "source": [
    "### 8)"
   ]
  },
  {
   "cell_type": "code",
   "execution_count": 493,
   "metadata": {},
   "outputs": [
    {
     "name": "stdout",
     "output_type": "stream",
     "text": [
      "El municipio mas cercano a Madrid es Pozuelo de Alarcón\n",
      "El municipio mas lejano a madrid es Los Llanos de Aridane\n"
     ]
    }
   ],
   "source": [
    "x_Madrid = float(dataset[dataset['Municipio']=='Madrid']['X'])\n",
    "y_Madrid = float(dataset[dataset['Municipio']=='Madrid']['Y'])\n",
    "\n",
    "DataSort = dataset[dataset['Municipio']!='Madrid'].copy()\n",
    "DataSort['DistMadrid']=((x_Madrid-DataSort['X'])**2+(y_Madrid-DataSort['Y'])**2)**0.5\n",
    "DataSort=DataSort.sort_values('DistMadrid').reset_index(drop=True)\n",
    "\n",
    "Cercano=DataSort.loc[0,'Municipio']\n",
    "Lejano=DataSort.loc[len(DataSort)-1,'Municipio']\n",
    "\n",
    "print(f'El municipio mas cercano a Madrid es {Cercano}')\n",
    "print(f'El municipio mas lejano a madrid es {Lejano}')"
   ]
  }
 ],
 "metadata": {
  "kernelspec": {
   "display_name": "base",
   "language": "python",
   "name": "python3"
  },
  "language_info": {
   "codemirror_mode": {
    "name": "ipython",
    "version": 3
   },
   "file_extension": ".py",
   "mimetype": "text/x-python",
   "name": "python",
   "nbconvert_exporter": "python",
   "pygments_lexer": "ipython3",
   "version": "3.9.13"
  },
  "orig_nbformat": 4
 },
 "nbformat": 4,
 "nbformat_minor": 2
}
